{
 "cells": [
  {
   "cell_type": "markdown",
   "metadata": {},
   "source": [
    "# Exercício 1.0"
   ]
  },
  {
   "cell_type": "markdown",
   "metadata": {},
   "source": [
    "## Problema"
   ]
  },
  {
   "cell_type": "markdown",
   "metadata": {
    "ExecuteTime": {
     "end_time": "2021-09-23T01:15:31.266217Z",
     "start_time": "2021-09-23T01:15:31.260904Z"
    }
   },
   "source": [
    "Em uma loja e CD´s existem apenas quatro tipos de preços que estão associados a cores. Assim os CD´s que ficam na loja não são marcados por preços e sim por cores. \n",
    "\n",
    "Desenvolva uma aplicação que receba como entrada a cor do CD e mostre o preço. A loja está atualmente com a seguinte tabela de preços.\n",
    "\n",
    "| Cor | Preço|\n",
    "| :-: | :--: |\n",
    "| Verde    | R\\$ 10,00 |\n",
    "| Azul     | R\\$ 20,00 |\n",
    "| Amarelo  | R\\$ 30,00 |\n",
    "| Vermelho | R\\$ 40,00 |"
   ]
  },
  {
   "cell_type": "markdown",
   "metadata": {
    "ExecuteTime": {
     "end_time": "2021-09-23T01:18:10.271290Z",
     "start_time": "2021-09-23T01:18:10.267092Z"
    }
   },
   "source": [
    "## Análise"
   ]
  },
  {
   "cell_type": "markdown",
   "metadata": {},
   "source": [
    "   Coloque a sua análise aqui"
   ]
  },
  {
   "cell_type": "markdown",
   "metadata": {},
   "source": [
    "## Implicações / Proposições / Afirmações"
   ]
  },
  {
   "cell_type": "markdown",
   "metadata": {},
   "source": [
    "- A aplicação deve receber um dado: a cor da etiqueta do CD \n",
    "- A aplicação deve devolver para o usuário o valor do CD com base na cor da etiqueta\n",
    "- A aplicação deve acompanhar a tabela de preços"
   ]
  },
  {
   "cell_type": "markdown",
   "metadata": {},
   "source": [
    "## Resolução e Resposta"
   ]
  },
  {
   "cell_type": "code",
   "execution_count": 2,
   "metadata": {
    "ExecuteTime": {
     "end_time": "2022-10-15T21:52:25.382249Z",
     "start_time": "2022-10-15T21:52:23.140468Z"
    }
   },
   "outputs": [
    {
     "name": "stdout",
     "output_type": "stream",
     "text": [
      "Informe a cor da etiqueta: verde\n",
      "O CD custa R$ 10,00\n"
     ]
    }
   ],
   "source": [
    "cor = input ( 'Informe a cor da etiqueta: ')\n",
    "\n",
    "if(cor == 'verde'):\n",
    "    print(f'O CD custa R$ 10,00')\n",
    "elif( cor == 'azul'):\n",
    "    print(f'O CD custa R$ 20,00')\n",
    "elif( cor == 'amarelo'):\n",
    "    print(f'O CD custa R$ 30,00')\n",
    "elif( cor == 'vermelho'):\n",
    "    print(f'O CD custa R$ 40,00')\n",
    "else:\n",
    "    print('Cor não registrada')"
   ]
  },
  {
   "cell_type": "markdown",
   "metadata": {},
   "source": [
    "# Exercício 2.0"
   ]
  },
  {
   "cell_type": "markdown",
   "metadata": {},
   "source": [
    "## Problema"
   ]
  },
  {
   "cell_type": "markdown",
   "metadata": {
    "ExecuteTime": {
     "end_time": "2021-09-26T21:34:24.080327Z",
     "start_time": "2021-09-26T21:34:24.070512Z"
    }
   },
   "source": [
    "Uma empresa decidiu dar uma gratificação de Natal a seus funcionários, baseada no número de horas extras e no número de horas que o funcionário faltou ao trabalho. O valor do prêmio é obtido pela consulta na tabela a seguir, em que:"
   ]
  },
  {
   "cell_type": "markdown",
   "metadata": {},
   "source": [
    "\\begin{equation}\\label{eq:}\n",
    "H = (horas\\_extras) - 2/3 * (horas\\_falta)\n",
    "\\end{equation}"
   ]
  },
  {
   "cell_type": "markdown",
   "metadata": {},
   "source": [
    "| H | Gratificação |\n",
    "| :-: | :--------: |\n",
    "| Maior que 2400 | R\\$ 500,00 |\n",
    "| 1801 até 2400  | R\\$ 400,00 |\n",
    "| 1201 até 1800  | R\\$ 300,00 | \n",
    "| 600 até 1200   | R\\$ 200,00 |\n",
    "| Menor que 600  | R\\$ 100,00 |"
   ]
  },
  {
   "cell_type": "markdown",
   "metadata": {},
   "source": [
    "Faça uma aplicação que receba o número de horas extras e o número de horas-falta de um funcionário e imprima o valor de sua gratificação."
   ]
  },
  {
   "cell_type": "markdown",
   "metadata": {
    "ExecuteTime": {
     "end_time": "2021-09-23T01:18:10.271290Z",
     "start_time": "2021-09-23T01:18:10.267092Z"
    }
   },
   "source": [
    "## Análise"
   ]
  },
  {
   "cell_type": "markdown",
   "metadata": {},
   "source": [
    "   Coloque a sua análise aqui"
   ]
  },
  {
   "cell_type": "markdown",
   "metadata": {},
   "source": [
    "## Implicações / Proposições / Afirmações"
   ]
  },
  {
   "cell_type": "markdown",
   "metadata": {},
   "source": [
    "- A aplicação deve receber duas entradas: As horas-extras e as horas-falta\n",
    "- A aplicação tem que fazer o cálculo do *H* com base nas entradas \n",
    "- O cálculo do *H* deve ser eito seguindo a seguinte fórmula\n",
    "    - H = (horas_extras) - 2/3*(horas_falta)\n",
    "- A aplicação deve informar o valor da gratificação com base tabela acima."
   ]
  },
  {
   "cell_type": "markdown",
   "metadata": {},
   "source": [
    "## Resolução e Resposta"
   ]
  },
  {
   "cell_type": "code",
   "execution_count": 1,
   "metadata": {
    "ExecuteTime": {
     "end_time": "2022-10-16T11:25:11.697774Z",
     "start_time": "2022-10-16T11:25:02.747643Z"
    }
   },
   "outputs": [
    {
     "name": "stdout",
     "output_type": "stream",
     "text": [
      "Informe a quantidade de horas extras: 1900\n",
      "Informe a quantidade de horas falta: 13\n",
      " O colaborador receberá R$ 400,00 de gratificação \n"
     ]
    }
   ],
   "source": [
    "hora_extra = float(input('Informe a quantidade de horas extras: '))\n",
    "hora_falta = float(input('Informe a quantidade de horas falta: '))\n",
    "\n",
    "#  H = (horas_extras) - 2/3*(horas_falta)\n",
    "H = (hora_extra) - ( 2/3 * (hora_falta) )\n",
    "\n",
    "if(H > 2400):\n",
    "    print(' O colaborador receberá R$ 500,00 de gratificação ')\n",
    "elif(1801 <= H <= 2400):\n",
    "    print(' O colaborador receberá R$ 400,00 de gratificação ')\n",
    "elif(1201 <= H <= 1800):\n",
    "    print(' O colaborador receberá R$ 300,00 de gratificação ')\n",
    "elif(600 <= H <= 1200):\n",
    "    print(' O colaborador receberá R$ 200,00 de gratificação ')\n",
    "else:\n",
    "    print(' O colaborador receberá R$ 100,00 de gratificação ')"
   ]
  }
 ],
 "metadata": {
  "kernelspec": {
   "display_name": "Python 3",
   "language": "python",
   "name": "python3"
  },
  "language_info": {
   "codemirror_mode": {
    "name": "ipython",
    "version": 3
   },
   "file_extension": ".py",
   "mimetype": "text/x-python",
   "name": "python",
   "nbconvert_exporter": "python",
   "pygments_lexer": "ipython3",
   "version": "3.8.3"
  },
  "latex_envs": {
   "LaTeX_envs_menu_present": true,
   "autoclose": false,
   "autocomplete": true,
   "bibliofile": "biblio.bib",
   "cite_by": "apalike",
   "current_citInitial": 1,
   "eqLabelWithNumbers": true,
   "eqNumInitial": 1,
   "hotkeys": {
    "equation": "Ctrl-E",
    "itemize": "Ctrl-I"
   },
   "labels_anchors": false,
   "latex_user_defs": false,
   "report_style_numbering": false,
   "user_envs_cfg": false
  }
 },
 "nbformat": 4,
 "nbformat_minor": 5
}
