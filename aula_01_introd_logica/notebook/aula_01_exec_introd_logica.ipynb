{
 "cells": [
  {
   "cell_type": "markdown",
   "id": "356cb35d",
   "metadata": {},
   "source": [
    "# Exercício 1.0 - Raciocínio Lógico"
   ]
  },
  {
   "cell_type": "markdown",
   "id": "96a0f0d7",
   "metadata": {},
   "source": [
    "## Problema"
   ]
  },
  {
   "cell_type": "markdown",
   "id": "e9e8107f",
   "metadata": {
    "ExecuteTime": {
     "end_time": "2021-09-23T01:15:31.266217Z",
     "start_time": "2021-09-23T01:15:31.260904Z"
    }
   },
   "source": [
    "Em uma escola estudam quatro amigas: Raquel, Vivian, Bruna e Ana. Em um dia ensolarado, elas se reuniram para passear em um parque. Cada uma delas utilizou uma camiseta de cor diferente: Branco, Azul, Amarelo e Verde. Além disso, cada uma passou um protetor com fator de proteção (FPS) diferente. Cada uma delas tem um animal de estimação diferente e gosta de um suco diferente, além de possuírem idades diferentes.  \n",
    "Todas elas sentaram em um banco de 4 lugares, cada uma ocupando um lugar diferente.  \n",
    "Na terceira posição do banco está a garota que tem um Cachorro.  \n",
    "Quem tem um Peixe está em uma das pontas do banco.  \n",
    "A garota que tem um Gato está na primeira posição do banco.  \n",
    "Ana usou o protetor solar de FPS 50.  \n",
    "Na segunda posição está a garota que usou o protetor solar com FPS 55.  \n",
    "A garota mais nova está ao lado da que usa protetor solar de menor FPS.  \n",
    "Quem gosta de suco de Morango está na quarta posição do banco.  \n",
    "A garota que gosta de suco de Maracujá está ao lado da que tem Pássaros.  \n",
    "A garota que gosta de suco de Limão está ao lado da que gosta de suco de Maracujá.  \n",
    "Quem gosta de suco de Laranja está em uma das pontas.  \n",
    "A garota de camiseta Azul está em algum lugar à esquerda da garota de 9 anos.  \n",
    "A garota de 8 anos está na quarta posição.  \n",
    "A garota de 11 anos está em uma das pontas.  \n",
    "Vivian tem Pássaros.  \n",
    "Raquel está na primeira posição.  \n",
    "A garota de camiseta Verde está na quarta posição do banco.  \n",
    "A garota de camiseta Branca está em uma das pontas.  \n",
    "A garota de 10 anos está ao lado da garota de 11.  \n",
    "A garota que usou o protetor solar de FPS 40 gosta de suco de Maracujá.  \n",
    "A garota que usou o protetor solar de FPS 45 está em uma das pontas do banco.  \n",
    "Bruna tem Cachorros.  \n",
    "\n",
    "Qual a característica (cor da camiseta, animal de estimação, protetor solar que utilizou, suco que gosta, nome e idade) de cada uma das garotas?\n"
   ]
  },
  {
   "cell_type": "markdown",
   "id": "111dc674",
   "metadata": {
    "ExecuteTime": {
     "end_time": "2021-09-23T01:18:10.271290Z",
     "start_time": "2021-09-23T01:18:10.267092Z"
    }
   },
   "source": [
    "## Análise"
   ]
  },
  {
   "cell_type": "markdown",
   "id": "e21d12c5",
   "metadata": {},
   "source": [
    "- Qual a característica (cor da camiseta, animal de estimação, protetor solar que utilizou, suco que gosta, nome e idade) de cada uma das garotas? \n"
   ]
  },
  {
   "cell_type": "markdown",
   "id": "726b8569",
   "metadata": {},
   "source": [
    "## Implicações / Proposições / Afirmações"
   ]
  },
  {
   "cell_type": "markdown",
   "id": "77884643",
   "metadata": {},
   "source": [
    "- Existem 4 amigas: Raquel, Vivian, Bruna e Ana;\n",
    "- Existem 4 Cores diferentes: Branco, Azul, Amarelo e Verde.\n",
    "- Existem 4 Protetores diferentes: FPS 40, 45, 50 e 55;\n",
    "- Existem 4 Pets diferentes: Cachorro, Pássaros, Peixe e Gato;\n",
    "- Existem 4 Idades diferentes: 8, 9, 10 e 11 anos;\n",
    "- Existem 4 Sucos diferentes: Morango, Limão, Maracujá e Laranja;\n",
    "- Cada uma das amigas sentou em um lugar diferente do banco;\n",
    "- Em uma das Pontas está quem está usando Branco\n",
    "- Em uma das Pontas está quem usou o Protetor FPS 45\n",
    "- Em uma das Pontas está quem gosta de suco de Laranja\n",
    "- Em uma das Pontas está quem tem Peixe\n",
    "- Em uma das Pontas está a garota de 11 anos\n",
    "- Na Primeira Posição está a Raquel\n",
    "- Na Primeira Posição está quem tem Gato\n",
    "- Na Segunda Posição está quem usou Protetor FPS 55\n",
    "- Na Terceira Posição está quem tem Cachorro\n",
    "- Na Quarta Posição está quem gosta de suco de Morango\n",
    "- Na Quarta Posição está a garota de 8 anos\n",
    "- Na Quarta Posição está a garota de Verde\n",
    "- Quem gosta de Suco de Maracujá está ao lado de quem tem Pássaros\n",
    "- Quem gosta de Suco de Maracujá usou o Protetor FPS 40\n",
    "- Quem gosta de Suco de Limão está ao lado de quem gosta de Suco de Maracujá.\n",
    "- Ana usou o protetor solar de FPS 50.\n",
    "- Bruna tem Cachorros.\n",
    "- Vivian tem Pássaros.\n",
    "- A garota mais nova está ao lado da que usou Protetor com o menor FPS.\n",
    "- A garota de 10 anos está ao lado da garota de 11.\n",
    "- A garota de camiseta Azul está em algum lugar à esquerda da garota de 9 anos."
   ]
  },
  {
   "cell_type": "markdown",
   "id": "719448b9",
   "metadata": {},
   "source": [
    "## Resolução"
   ]
  },
  {
   "cell_type": "markdown",
   "id": "e6981313",
   "metadata": {},
   "source": [
    "Caso seja necessário, utilize esse exemplo para montar as suas tabelas\n",
    "\n",
    "| Linha x Coluna | Coluna 1 | Coluna 2 | Coluna 3 | \n",
    "| :------------: | :------: | :------: | :------: | \n",
    "| Linha 1 | F | V | F |\n",
    "| linha 2 | F | F | V |\n",
    "| linha 3 | V | F | F |"
   ]
  },
  {
   "cell_type": "markdown",
   "id": "e6039c9b",
   "metadata": {},
   "source": [
    "## Resposta"
   ]
  },
  {
   "cell_type": "markdown",
   "id": "6777ad45",
   "metadata": {},
   "source": [
    "| Amigas         | Raquel   | Vivian   | Bruna    | Ana      |\n",
    "| :------------: | :------: | :------: | :------: | :------: | \n",
    "| Camiseta       | branca   | azul     | amarela  | verde    |\n",
    "| Protetor       | FPS45    | FPS55    | FPS40    | FPS50    |\n",
    "| Animal         | gato     | pássaro  | cachorro | peixe    |\n",
    "| Suco           | laranja  | limão    | maracujá | morango  |\n",
    "| Idade          | 11 anos  | 10 anos  | 9 anos   | 8 anos   |"
   ]
  },
  {
   "cell_type": "markdown",
   "id": "96ad9c04",
   "metadata": {},
   "source": [
    "# Exercício 2.0 - Estrutura IF"
   ]
  },
  {
   "cell_type": "markdown",
   "id": "1e06d3df",
   "metadata": {},
   "source": [
    "## Problema"
   ]
  },
  {
   "cell_type": "markdown",
   "id": "aad3c3fa",
   "metadata": {
    "ExecuteTime": {
     "end_time": "2021-09-25T18:59:10.528659Z",
     "start_time": "2021-09-25T18:59:10.519979Z"
    }
   },
   "source": [
    "Elimine os testes redundantes dos itens abaixo:"
   ]
  },
  {
   "cell_type": "markdown",
   "id": "b015d263",
   "metadata": {},
   "source": [
    "### a) \n",
    "```python\n",
    "if (a > b):\n",
    "    print(f'Maior {a}')\n",
    "else:\n",
    "    if (b >= a):\n",
    "        print(f'Maior {b}')\n",
    "```"
   ]
  },
  {
   "cell_type": "markdown",
   "id": "5618cb1b",
   "metadata": {},
   "source": [
    "#### Resposta"
   ]
  },
  {
   "cell_type": "code",
   "execution_count": 2,
   "id": "0671c10a",
   "metadata": {
    "ExecuteTime": {
     "end_time": "2022-10-15T20:12:34.922757Z",
     "start_time": "2022-10-15T20:12:34.914757Z"
    }
   },
   "outputs": [],
   "source": [
    "if (a > b):\n",
    "    print(f'Maior {a}')\n",
    "else:\n",
    "    print(f'Maior {b}')"
   ]
  },
  {
   "cell_type": "markdown",
   "id": "5d79510f",
   "metadata": {},
   "source": [
    "### b)\n",
    "```python\n",
    "if (x > 10):\n",
    "    print(f'Valor maior que 10')\n",
    "else:\n",
    "    if (x <= 10 and x > 5):\n",
    "        print(f'Menor ou igual a 10 e maior que 5')\n",
    "    else:\n",
    "        if (x <= 5):\n",
    "            print(f'Menor ou igual a 5')\n",
    "```"
   ]
  },
  {
   "cell_type": "markdown",
   "id": "0111ae93",
   "metadata": {},
   "source": [
    "#### Reposta"
   ]
  },
  {
   "cell_type": "code",
   "execution_count": 3,
   "id": "2edeaddf",
   "metadata": {
    "ExecuteTime": {
     "end_time": "2022-10-15T20:13:27.617229Z",
     "start_time": "2022-10-15T20:13:27.601429Z"
    }
   },
   "outputs": [],
   "source": [
    "if (x > 10):\n",
    "    print(f'Valor maior que 10')\n",
    "elif (x <= 10 and x > 5):\n",
    "    print(f'Menor ou igual a 10 e maior que 5')\n",
    "else:\n",
    "    print(f'Menor ou igual a 5')"
   ]
  }
 ],
 "metadata": {
  "kernelspec": {
   "display_name": "Python 3 (ipykernel)",
   "language": "python",
   "name": "python3"
  },
  "language_info": {
   "codemirror_mode": {
    "name": "ipython",
    "version": 3
   },
   "file_extension": ".py",
   "mimetype": "text/x-python",
   "name": "python",
   "nbconvert_exporter": "python",
   "pygments_lexer": "ipython3",
   "version": "3.8.13"
  },
  "latex_envs": {
   "LaTeX_envs_menu_present": true,
   "autoclose": false,
   "autocomplete": true,
   "bibliofile": "biblio.bib",
   "cite_by": "apalike",
   "current_citInitial": 1,
   "eqLabelWithNumbers": true,
   "eqNumInitial": 1,
   "hotkeys": {
    "equation": "Ctrl-E",
    "itemize": "Ctrl-I"
   },
   "labels_anchors": false,
   "latex_user_defs": false,
   "report_style_numbering": false,
   "user_envs_cfg": false
  }
 },
 "nbformat": 4,
 "nbformat_minor": 5
}
